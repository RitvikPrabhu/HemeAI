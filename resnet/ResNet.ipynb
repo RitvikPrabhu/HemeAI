{
 "cells": [
  {
   "cell_type": "code",
   "execution_count": null,
   "metadata": {},
   "outputs": [],
   "source": [
    "# ResNet50 Code created by Amrita Ballurkar"
   ]
  },
  {
   "cell_type": "code",
   "execution_count": 1,
   "metadata": {
    "colab": {
     "base_uri": "https://localhost:8080/"
    },
    "id": "ytGAzYmDVkMM",
    "outputId": "ddeee78c-cfb1-457f-84e4-98c7027a2a6e"
   },
   "outputs": [
    {
     "name": "stdout",
     "output_type": "stream",
     "text": [
      "Looking in indexes: https://pypi.org/simple, https://us-python.pkg.dev/colab-wheels/public/simple/\n",
      "Collecting imageai\n",
      "  Downloading imageai-3.0.3-py3-none-any.whl (69 kB)\n",
      "\u001b[2K     \u001b[90m━━━━━━━━━━━━━━━━━━━━━━━━━━━━━━━━━━━━━━━━\u001b[0m \u001b[32m69.8/69.8 kB\u001b[0m \u001b[31m2.3 MB/s\u001b[0m eta \u001b[36m0:00:00\u001b[0m\n",
      "\u001b[?25hInstalling collected packages: imageai\n",
      "Successfully installed imageai-3.0.3\n"
     ]
    }
   ],
   "source": [
    "!pip install imageai"
   ]
  },
  {
   "cell_type": "code",
   "execution_count": 2,
   "metadata": {
    "colab": {
     "base_uri": "https://localhost:8080/"
    },
    "id": "i0Iy2JvG6EPi",
    "outputId": "f2dd0b4c-075e-41a3-b1e2-87158dc65eb3"
   },
   "outputs": [
    {
     "name": "stderr",
     "output_type": "stream",
     "text": [
      "/usr/local/lib/python3.9/dist-packages/torchvision/models/_utils.py:208: UserWarning: The parameter 'pretrained' is deprecated since 0.13 and may be removed in the future, please use 'weights' instead.\n",
      "  warnings.warn(\n",
      "/usr/local/lib/python3.9/dist-packages/torchvision/models/_utils.py:223: UserWarning: Arguments other than a weight enum or `None` for 'weights' are deprecated since 0.13 and may be removed in the future. The current behavior is equivalent to passing `weights=None`.\n",
      "  warnings.warn(msg)\n",
      "/usr/local/lib/python3.9/dist-packages/torchvision/models/inception.py:43: FutureWarning: The default weight initialization of inception_v3 will be changed in future releases of torchvision. If you wish to keep the old behavior (which leads to long initialization times due to scipy/scipy#11299), please set init_weights=True.\n",
      "  warnings.warn(\n",
      "WARNING:tensorflow:From /usr/local/lib/python3.9/dist-packages/tensorflow/python/compat/v2_compat.py:107: disable_resource_variables (from tensorflow.python.ops.variable_scope) is deprecated and will be removed in a future version.\n",
      "Instructions for updating:\n",
      "non-resource variables are not supported in the long term\n"
     ]
    }
   ],
   "source": [
    "#import statements\n",
    "from PIL import Image \n",
    "import numpy as np\n",
    "import os\n",
    "import imageio\n",
    "import matplotlib.pyplot as plt\n",
    "import tensorflow.compat.v1 as tf\n",
    "import keras \n",
    "import imageai\n",
    "from imageai.Classification.Custom import ClassificationModelTrainer\n",
    "import datetime\n",
    "tf.disable_v2_behavior()\n",
    "\n",
    "%matplotlib inline"
   ]
  },
  {
   "cell_type": "code",
   "execution_count": 3,
   "metadata": {
    "colab": {
     "base_uri": "https://localhost:8080/"
    },
    "id": "PdLPdDpb8owr",
    "outputId": "13e29e20-56b5-4657-dc94-7a0c083f921b"
   },
   "outputs": [
    {
     "name": "stdout",
     "output_type": "stream",
     "text": [
      "Mounted at /content/drive\n"
     ]
    }
   ],
   "source": [
    "#mounted google drive folder\n",
    "from google.colab import drive\n",
    "drive.mount('/content/drive')"
   ]
  },
  {
   "cell_type": "code",
   "execution_count": null,
   "metadata": {
    "colab": {
     "base_uri": "https://localhost:8080/"
    },
    "id": "V9PhWpC87M_a",
    "outputId": "4ddeb2b8-9ce6-477f-a04d-87b721b7b10a"
   },
   "outputs": [],
   "source": [
    "#trained model as ResNet50\n",
    "execution_path = 'drive/MyDrive/'\n",
    "prediction = ClassificationModelTrainer()\n",
    "prediction.setModelTypeAsResNet50()\n",
    "prediction.setDataDirectory(execution_path + \"images\")\n",
    "prediction.trainModel(num_experiments=100, batch_size=32)"
   ]
  },
  {
   "cell_type": "code",
   "execution_count": 9,
   "metadata": {
    "colab": {
     "base_uri": "https://localhost:8080/"
    },
    "id": "yZfzheUjp93f",
    "outputId": "514b47e9-d00a-4fed-e785-258aeddc3170"
   },
   "outputs": [
    {
     "name": "stderr",
     "output_type": "stream",
     "text": [
      "/usr/local/lib/python3.9/dist-packages/torchvision/models/_utils.py:208: UserWarning: The parameter 'pretrained' is deprecated since 0.13 and may be removed in the future, please use 'weights' instead.\n",
      "  warnings.warn(\n",
      "/usr/local/lib/python3.9/dist-packages/torchvision/models/_utils.py:223: UserWarning: Arguments other than a weight enum or `None` for 'weights' are deprecated since 0.13 and may be removed in the future. The current behavior is equivalent to passing `weights=None`.\n",
      "  warnings.warn(msg)\n"
     ]
    }
   ],
   "source": [
    "from imageai.Classification.Custom import CustomImageClassification\n",
    "\n",
    "#load trained model\n",
    "predictor = CustomImageClassification()\n",
    "predictor.setModelTypeAsResNet50()\n",
    "predictor.setModelPath(execution_path + \"images/models/resnet50-images-test_acc_0.59091_epoch-31.pt\")\n",
    "predictor.setJsonPath(execution_path + \"images/models/images_model_classes.json\")\n",
    "predictor.loadModel()"
   ]
  },
  {
   "cell_type": "code",
   "execution_count": 13,
   "metadata": {
    "colab": {
     "base_uri": "https://localhost:8080/"
    },
    "id": "fzasQc-y2KhH",
    "outputId": "3abdd5a7-938e-443c-f756-eb771f1c1666"
   },
   "outputs": [
    {
     "name": "stdout",
     "output_type": "stream",
     "text": [
      "EOSINOPHIL  :  38.2419\n",
      "MONOCYTE  :  28.1179\n",
      "LYMPHOCYTE  :  16.9908\n"
     ]
    }
   ],
   "source": [
    "#print test predictions \n",
    "predictions, probabilities = predictor.classifyImage(execution_path + \"images/TEST_SIMPLE/MONOCYTE/_0_5020.jpeg\", result_count=3)\n",
    "\n",
    "for eachPrediction, eachProbability in zip(predictions, probabilities):\n",
    "    print(eachPrediction , \" : \" , eachProbability)"
   ]
  },
  {
   "cell_type": "code",
   "execution_count": 21,
   "metadata": {
    "colab": {
     "base_uri": "https://localhost:8080/"
    },
    "id": "35Ucl7EA7V7G",
    "outputId": "91421c16-aba8-419d-eb8e-a09fad0188d5"
   },
   "outputs": [
    {
     "name": "stdout",
     "output_type": "stream",
     "text": [
      "~~~~~~~~~~EOSINOPHIL~~~~~~~~~~\n",
      "MONOCYTE  :  36.6237\n",
      "EOSINOPHIL  :  27.9879\n",
      "LYMPHOCYTE  :  22.4412\n",
      "-------------------------------\n",
      "EOSINOPHIL  :  42.7142\n",
      "MONOCYTE  :  25.9346\n",
      "NEUTROPHIL  :  18.4089\n",
      "-------------------------------\n",
      "EOSINOPHIL  :  63.4578\n",
      "NEUTROPHIL  :  24.6803\n",
      "MONOCYTE  :  8.9704\n",
      "-------------------------------\n",
      "LYMPHOCYTE  :  43.8697\n",
      "MONOCYTE  :  35.684\n",
      "EOSINOPHIL  :  13.9404\n",
      "-------------------------------\n",
      "MONOCYTE  :  33.2029\n",
      "EOSINOPHIL  :  32.2228\n",
      "LYMPHOCYTE  :  19.9792\n",
      "-------------------------------\n",
      "EOSINOPHIL  :  49.8238\n",
      "NEUTROPHIL  :  21.4815\n",
      "MONOCYTE  :  19.5166\n",
      "-------------------------------\n",
      "EOSINOPHIL  :  33.9626\n",
      "MONOCYTE  :  32.0147\n",
      "LYMPHOCYTE  :  18.5844\n",
      "-------------------------------\n",
      "EOSINOPHIL  :  47.1391\n",
      "MONOCYTE  :  22.2925\n",
      "NEUTROPHIL  :  20.0783\n",
      "-------------------------------\n",
      "MONOCYTE  :  38.5132\n",
      "LYMPHOCYTE  :  38.1828\n",
      "EOSINOPHIL  :  15.753\n",
      "-------------------------------\n",
      "MONOCYTE  :  37.2107\n",
      "LYMPHOCYTE  :  28.7173\n",
      "EOSINOPHIL  :  23.4178\n",
      "-------------------------------\n",
      "~~~~~~~~~~LYMPHOCYTE~~~~~~~~~~\n",
      "LYMPHOCYTE  :  69.9076\n",
      "MONOCYTE  :  21.5835\n",
      "EOSINOPHIL  :  6.2508\n",
      "-------------------------------\n",
      "LYMPHOCYTE  :  78.1336\n",
      "MONOCYTE  :  17.1762\n",
      "EOSINOPHIL  :  3.5683\n",
      "-------------------------------\n",
      "LYMPHOCYTE  :  83.1624\n",
      "MONOCYTE  :  12.711\n",
      "EOSINOPHIL  :  3.1397\n",
      "-------------------------------\n",
      "LYMPHOCYTE  :  91.5189\n",
      "MONOCYTE  :  6.694\n",
      "EOSINOPHIL  :  1.4084\n",
      "-------------------------------\n",
      "LYMPHOCYTE  :  52.3638\n",
      "MONOCYTE  :  32.0917\n",
      "EOSINOPHIL  :  10.8649\n",
      "-------------------------------\n",
      "LYMPHOCYTE  :  88.4673\n",
      "MONOCYTE  :  8.9945\n",
      "EOSINOPHIL  :  1.9834\n",
      "-------------------------------\n",
      "LYMPHOCYTE  :  77.7128\n",
      "MONOCYTE  :  16.1986\n",
      "EOSINOPHIL  :  4.5569\n",
      "-------------------------------\n",
      "LYMPHOCYTE  :  93.4536\n",
      "MONOCYTE  :  5.3594\n",
      "EOSINOPHIL  :  0.9422\n",
      "-------------------------------\n",
      "LYMPHOCYTE  :  77.6842\n",
      "MONOCYTE  :  16.5595\n",
      "EOSINOPHIL  :  4.3868\n",
      "-------------------------------\n",
      "LYMPHOCYTE  :  90.8596\n",
      "MONOCYTE  :  4.695\n",
      "EOSINOPHIL  :  4.2027\n",
      "-------------------------------\n",
      "~~~~~~~~~~MONOCYTE~~~~~~~~~~\n",
      "MONOCYTE  :  75.5494\n",
      "LYMPHOCYTE  :  21.167\n",
      "EOSINOPHIL  :  3.0192\n",
      "-------------------------------\n",
      "MONOCYTE  :  98.5249\n",
      "LYMPHOCYTE  :  1.2715\n",
      "EOSINOPHIL  :  0.1464\n",
      "-------------------------------\n",
      "MONOCYTE  :  99.604\n",
      "LYMPHOCYTE  :  0.2189\n",
      "EOSINOPHIL  :  0.1348\n",
      "-------------------------------\n",
      "MONOCYTE  :  96.9544\n",
      "LYMPHOCYTE  :  2.8105\n",
      "EOSINOPHIL  :  0.1758\n",
      "-------------------------------\n",
      "EOSINOPHIL  :  37.9489\n",
      "MONOCYTE  :  28.1729\n",
      "LYMPHOCYTE  :  17.2545\n",
      "-------------------------------\n",
      "MONOCYTE  :  96.7429\n",
      "LYMPHOCYTE  :  2.6566\n",
      "EOSINOPHIL  :  0.4163\n",
      "-------------------------------\n",
      "LYMPHOCYTE  :  44.2924\n",
      "MONOCYTE  :  27.7207\n",
      "EOSINOPHIL  :  20.6218\n",
      "-------------------------------\n",
      "MONOCYTE  :  94.2089\n",
      "LYMPHOCYTE  :  4.4102\n",
      "EOSINOPHIL  :  0.9802\n",
      "-------------------------------\n",
      "EOSINOPHIL  :  34.0501\n",
      "MONOCYTE  :  30.8472\n",
      "LYMPHOCYTE  :  20.3157\n",
      "-------------------------------\n",
      "LYMPHOCYTE  :  33.1607\n",
      "EOSINOPHIL  :  29.4204\n",
      "MONOCYTE  :  29.1135\n",
      "-------------------------------\n",
      "~~~~~~~~~~NEUTROPHIL~~~~~~~~~~\n",
      "EOSINOPHIL  :  64.2749\n",
      "NEUTROPHIL  :  24.2906\n",
      "MONOCYTE  :  8.898\n",
      "-------------------------------\n",
      "LYMPHOCYTE  :  44.9801\n",
      "MONOCYTE  :  33.351\n",
      "EOSINOPHIL  :  15.5483\n",
      "-------------------------------\n",
      "LYMPHOCYTE  :  44.9151\n",
      "MONOCYTE  :  34.5739\n",
      "EOSINOPHIL  :  14.202\n",
      "-------------------------------\n",
      "EOSINOPHIL  :  62.6485\n",
      "NEUTROPHIL  :  24.8424\n",
      "MONOCYTE  :  9.1513\n",
      "-------------------------------\n",
      "EOSINOPHIL  :  57.7798\n",
      "MONOCYTE  :  17.5114\n",
      "LYMPHOCYTE  :  17.3148\n",
      "-------------------------------\n",
      "EOSINOPHIL  :  64.6906\n",
      "NEUTROPHIL  :  24.6398\n",
      "MONOCYTE  :  8.119\n",
      "-------------------------------\n",
      "LYMPHOCYTE  :  53.0475\n",
      "MONOCYTE  :  31.6646\n",
      "EOSINOPHIL  :  10.7942\n",
      "-------------------------------\n",
      "EOSINOPHIL  :  62.264\n",
      "NEUTROPHIL  :  24.8009\n",
      "MONOCYTE  :  9.7973\n",
      "-------------------------------\n",
      "EOSINOPHIL  :  63.3408\n",
      "NEUTROPHIL  :  18.1471\n",
      "MONOCYTE  :  12.1142\n",
      "-------------------------------\n",
      "EOSINOPHIL  :  39.8841\n",
      "MONOCYTE  :  33.6222\n",
      "NEUTROPHIL  :  16.3763\n",
      "-------------------------------\n"
     ]
    }
   ],
   "source": [
    "#get predictions for test images\n",
    "test_path = execution_path + \"images/test/\"\n",
    "test_classes = [\"EOSINOPHIL\", \"LYMPHOCYTE\", \"MONOCYTE\", \"NEUTROPHIL\"]\n",
    "for test_class in test_classes:\n",
    "  dir = os.listdir(test_path + test_class)\n",
    "  print(\"~~~~~~~~~~\" + test_class + \"~~~~~~~~~~\")\n",
    "  for image in dir[:10]:\n",
    "    predictions, probabilities = predictor.classifyImage(test_path + test_class + '/' + image, result_count=3)\n",
    "    for eachPrediction, eachProbability in zip(predictions, probabilities):\n",
    "      print(eachPrediction , \" : \" , eachProbability)\n",
    "    print(\"-------------------------------\")\n"
   ]
  },
  {
   "cell_type": "code",
   "execution_count": 33,
   "metadata": {
    "colab": {
     "base_uri": "https://localhost:8080/",
     "height": 430
    },
    "id": "5XyOmWzYCdGU",
    "outputId": "bcf68704-88b1-497e-c016-99e687f088f9"
   },
   "outputs": [
    {
     "data": {
      "image/png": "[encoded data removed]",
      "text/plain": [
       "<Figure size 640x480 with 1 Axes>"
      ]
     },
     "metadata": {},
     "output_type": "display_data"
    }
   ],
   "source": [
    "import matplotlib.pyplot as plt\n",
    "import numpy as np\n",
    "\n",
    "#create confidence matrix from calculations\n",
    "conf = np.array([[6, 0, 4, 0], [2, 10, 1, 3], [2, 0, 5, 7], [0, 0, 0, 0]])\n",
    "\n",
    "plt.imshow(conf, interpolation='none', cmap='Blues')\n",
    "plt.xticks(np.arange(0, 4), ['MONOCYTE', 'LYMPHOCYTE', 'EOSINOPHIL', 'NEUTROPHIL'])\n",
    "plt.yticks(np.arange(0, 4), ['MONOCYTE', 'LYMPHOCYTE', 'EOSINOPHIL', 'NEUTROPHIL'])\n",
    "\n",
    "plt.show()"
   ]
  }
 ],
 "metadata": {
  "accelerator": "GPU",
  "colab": {
   "provenance": []
  },
  "gpuClass": "standard",
  "kernelspec": {
   "display_name": "Python 3 (ipykernel)",
   "language": "python",
   "name": "python3"
  },
  "language_info": {
   "codemirror_mode": {
    "name": "ipython",
    "version": 3
   },
   "file_extension": ".py",
   "mimetype": "text/x-python",
   "name": "python",
   "nbconvert_exporter": "python",
   "pygments_lexer": "ipython3",
   "version": "3.10.9"
  }
 },
 "nbformat": 4,
 "nbformat_minor": 1
}
