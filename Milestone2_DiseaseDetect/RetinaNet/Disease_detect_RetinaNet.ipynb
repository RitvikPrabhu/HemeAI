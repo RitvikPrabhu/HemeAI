{
  "cells": [
    {
      "cell_type": "markdown",
      "metadata": {
        "id": "view-in-github",
        "colab_type": "text"
      },
      "source": [
        "<a href=\"https://colab.research.google.com/github/RitvikPrabhu/AutoCBC/blob/master/Milestone2_DiseaseDetect/RetinaNet/Disease_detect_RetinaNet.ipynb\" target=\"_parent\"><img src=\"https://colab.research.google.com/assets/colab-badge.svg\" alt=\"Open In Colab\"/></a>"
      ]
    },
    {
      "cell_type": "markdown",
      "source": [
        "#**HemeAI: Disease Detect**\n",
        "\n",
        "## The following notebook attempts to identify diseases using RetinaNet\n",
        "\n",
        "###Author: Ritvik Prabhu"
      ],
      "metadata": {
        "id": "fcxQycVS_mPR"
      },
      "id": "fcxQycVS_mPR"
    },
    {
      "cell_type": "markdown",
      "source": [
        "First let us import a tool that can clear extremely verbose outputs"
      ],
      "metadata": {
        "id": "BrmcRdiehLZh"
      },
      "id": "BrmcRdiehLZh"
    },
    {
      "cell_type": "code",
      "source": [
        "from IPython.display import clear_output \n"
      ],
      "metadata": {
        "id": "gIMRVR3whKRJ"
      },
      "id": "gIMRVR3whKRJ",
      "execution_count": 1,
      "outputs": []
    },
    {
      "cell_type": "markdown",
      "source": [
        "Below we will clone our repository. The repository will contain the model files, annotated dataset and setup.py which are all necessary to train the model used for the first milestone of the project."
      ],
      "metadata": {
        "id": "N5xDXFsf__vy"
      },
      "id": "N5xDXFsf__vy"
    },
    {
      "cell_type": "code",
      "execution_count": 2,
      "id": "94940081",
      "metadata": {
        "id": "94940081"
      },
      "outputs": [],
      "source": [
        "!git clone https://github.com/RitvikPrabhu/AutoCBC.git\n",
        "%cd AutoCBC\n",
        "!apt-get install tk-dev python-tk\n",
        "!pip install -r requirements.txt\n",
        "%cd Milestone2_DiseaseDetect/RetinaNet\n",
        "!git clone https://github.com/yhenon/pytorch-retinanet.git\n",
        "!pip install pandas\n",
        "!pip install pycocotools\n",
        "!pip install opencv-python\n",
        "!pip install requests\n",
        "!pip install torch==1.13\n",
        "!pip install torchvision==0.14.1\n",
        "clear_output()\n"
      ]
    },
    {
      "cell_type": "markdown",
      "source": [
        "The code below will allows us to reset our directory without having to shutdown the entire runtime"
      ],
      "metadata": {
        "id": "m3vrLpY8BPJ9"
      },
      "id": "m3vrLpY8BPJ9"
    },
    {
      "cell_type": "code",
      "source": [
        "# !rm -rf AutoCBC/"
      ],
      "metadata": {
        "id": "PPHlYmbymxU4"
      },
      "id": "PPHlYmbymxU4",
      "execution_count": 3,
      "outputs": []
    },
    {
      "cell_type": "markdown",
      "source": [
        "Obtain the Dataset (from Roboflow)"
      ],
      "metadata": {
        "id": "TGbjTBS-gVJh"
      },
      "id": "TGbjTBS-gVJh"
    },
    {
      "cell_type": "code",
      "source": [
        "!pip install roboflow\n",
        "\n",
        "from roboflow import Roboflow\n",
        "rf = Roboflow(api_key=\"k7t7R1s1qjS9eojgbD50\")\n",
        "project = rf.workspace().project(\"disease-detection-z1mqc\")\n",
        "dataset = project.version(3).download(\"retinanet\")\n",
        "clear_output()"
      ],
      "metadata": {
        "id": "SVtM8fUHfyT2",
        "outputId": "68778cd3-11c9-4b92-b652-d15fd7ada144",
        "colab": {
          "base_uri": "https://localhost:8080/",
          "height": 1000
        }
      },
      "id": "SVtM8fUHfyT2",
      "execution_count": 4,
      "outputs": [
        {
          "output_type": "stream",
          "name": "stdout",
          "text": [
            "Looking in indexes: https://pypi.org/simple, https://us-python.pkg.dev/colab-wheels/public/simple/\n",
            "Collecting roboflow\n",
            "  Downloading roboflow-1.0.5-py3-none-any.whl (56 kB)\n",
            "\u001b[2K     \u001b[90m━━━━━━━━━━━━━━━━━━━━━━━━━━━━━━━━━━━━━━━━\u001b[0m \u001b[32m56.2/56.2 kB\u001b[0m \u001b[31m2.8 MB/s\u001b[0m eta \u001b[36m0:00:00\u001b[0m\n",
            "\u001b[?25hCollecting cycler==0.10.0\n",
            "  Downloading cycler-0.10.0-py2.py3-none-any.whl (6.5 kB)\n",
            "Collecting requests-toolbelt\n",
            "  Downloading requests_toolbelt-0.10.1-py2.py3-none-any.whl (54 kB)\n",
            "\u001b[2K     \u001b[90m━━━━━━━━━━━━━━━━━━━━━━━━━━━━━━━━━━━━━━━━\u001b[0m \u001b[32m54.5/54.5 kB\u001b[0m \u001b[31m5.9 MB/s\u001b[0m eta \u001b[36m0:00:00\u001b[0m\n",
            "\u001b[?25hRequirement already satisfied: chardet==4.0.0 in /usr/local/lib/python3.9/dist-packages (from roboflow) (4.0.0)\n",
            "Requirement already satisfied: certifi==2022.12.7 in /usr/local/lib/python3.9/dist-packages (from roboflow) (2022.12.7)\n",
            "Requirement already satisfied: Pillow>=7.1.2 in /usr/local/lib/python3.9/dist-packages (from roboflow) (8.4.0)\n",
            "Requirement already satisfied: urllib3>=1.26.6 in /usr/local/lib/python3.9/dist-packages (from roboflow) (1.26.15)\n",
            "Requirement already satisfied: kiwisolver>=1.3.1 in /usr/local/lib/python3.9/dist-packages (from roboflow) (1.4.4)\n",
            "Requirement already satisfied: python-dateutil in /usr/local/lib/python3.9/dist-packages (from roboflow) (2.8.2)\n",
            "Collecting python-dotenv\n",
            "  Downloading python_dotenv-1.0.0-py3-none-any.whl (19 kB)\n",
            "Requirement already satisfied: requests in /usr/local/lib/python3.9/dist-packages (from roboflow) (2.27.1)\n",
            "Collecting wget\n",
            "  Downloading wget-3.2.zip (10 kB)\n",
            "  Preparing metadata (setup.py) ... \u001b[?25l\u001b[?25hdone\n",
            "Requirement already satisfied: PyYAML>=5.3.1 in /usr/local/lib/python3.9/dist-packages (from roboflow) (6.0)\n",
            "Requirement already satisfied: numpy>=1.18.5 in /usr/local/lib/python3.9/dist-packages (from roboflow) (1.22.4)\n",
            "Requirement already satisfied: six in /usr/local/lib/python3.9/dist-packages (from roboflow) (1.16.0)\n",
            "Requirement already satisfied: tqdm>=4.41.0 in /usr/local/lib/python3.9/dist-packages (from roboflow) (4.65.0)\n",
            "Collecting idna==2.10\n",
            "  Downloading idna-2.10-py2.py3-none-any.whl (58 kB)\n",
            "\u001b[2K     \u001b[90m━━━━━━━━━━━━━━━━━━━━━━━━━━━━━━━━━━━━━━━━\u001b[0m \u001b[32m58.8/58.8 kB\u001b[0m \u001b[31m5.7 MB/s\u001b[0m eta \u001b[36m0:00:00\u001b[0m\n",
            "\u001b[?25hRequirement already satisfied: matplotlib in /usr/local/lib/python3.9/dist-packages (from roboflow) (3.7.1)\n",
            "Collecting pyparsing==2.4.7\n",
            "  Downloading pyparsing-2.4.7-py2.py3-none-any.whl (67 kB)\n",
            "\u001b[2K     \u001b[90m━━━━━━━━━━━━━━━━━━━━━━━━━━━━━━━━━━━━━━━━\u001b[0m \u001b[32m67.8/67.8 kB\u001b[0m \u001b[31m6.8 MB/s\u001b[0m eta \u001b[36m0:00:00\u001b[0m\n",
            "\u001b[?25hRequirement already satisfied: opencv-python>=4.1.2 in /usr/local/lib/python3.9/dist-packages (from roboflow) (4.7.0.72)\n",
            "Requirement already satisfied: contourpy>=1.0.1 in /usr/local/lib/python3.9/dist-packages (from matplotlib->roboflow) (1.0.7)\n",
            "Requirement already satisfied: fonttools>=4.22.0 in /usr/local/lib/python3.9/dist-packages (from matplotlib->roboflow) (4.39.3)\n",
            "Requirement already satisfied: importlib-resources>=3.2.0 in /usr/local/lib/python3.9/dist-packages (from matplotlib->roboflow) (5.12.0)\n",
            "Requirement already satisfied: packaging>=20.0 in /usr/local/lib/python3.9/dist-packages (from matplotlib->roboflow) (23.0)\n",
            "Requirement already satisfied: charset-normalizer~=2.0.0 in /usr/local/lib/python3.9/dist-packages (from requests->roboflow) (2.0.12)\n",
            "Requirement already satisfied: zipp>=3.1.0 in /usr/local/lib/python3.9/dist-packages (from importlib-resources>=3.2.0->matplotlib->roboflow) (3.15.0)\n",
            "Building wheels for collected packages: wget\n",
            "  Building wheel for wget (setup.py) ... \u001b[?25l\u001b[?25hdone\n",
            "  Created wheel for wget: filename=wget-3.2-py3-none-any.whl size=9676 sha256=d6f384567152ea5f39676972d77d36034265e9be1a75decf0c06e8a688c5b3f7\n",
            "  Stored in directory: /root/.cache/pip/wheels/04/5f/3e/46cc37c5d698415694d83f607f833f83f0149e49b3af9d0f38\n",
            "Successfully built wget\n",
            "Installing collected packages: wget, python-dotenv, pyparsing, idna, cycler, requests-toolbelt, roboflow\n",
            "  Attempting uninstall: pyparsing\n",
            "    Found existing installation: pyparsing 3.0.9\n",
            "    Uninstalling pyparsing-3.0.9:\n",
            "      Successfully uninstalled pyparsing-3.0.9\n",
            "  Attempting uninstall: idna\n",
            "    Found existing installation: idna 3.4\n",
            "    Uninstalling idna-3.4:\n",
            "      Successfully uninstalled idna-3.4\n",
            "  Attempting uninstall: cycler\n",
            "    Found existing installation: cycler 0.11.0\n",
            "    Uninstalling cycler-0.11.0:\n",
            "      Successfully uninstalled cycler-0.11.0\n",
            "Successfully installed cycler-0.10.0 idna-2.10 pyparsing-2.4.7 python-dotenv-1.0.0 requests-toolbelt-0.10.1 roboflow-1.0.5 wget-3.2\n"
          ]
        },
        {
          "output_type": "display_data",
          "data": {
            "application/vnd.colab-display-data+json": {
              "pip_warning": {
                "packages": [
                  "cycler",
                  "pyparsing"
                ]
              }
            }
          },
          "metadata": {}
        },
        {
          "output_type": "stream",
          "name": "stdout",
          "text": [
            "loading Roboflow workspace...\n",
            "loading Roboflow project...\n",
            "Downloading Dataset Version Zip in Disease-Detection-3 to retinanet: 91% [34676736 / 37910273] bytes"
          ]
        }
      ]
    },
    {
      "cell_type": "markdown",
      "source": [
        "Delete empty lines in csv files"
      ],
      "metadata": {
        "id": "zinoQzNwJp5s"
      },
      "id": "zinoQzNwJp5s"
    },
    {
      "cell_type": "code",
      "source": [
        "import csv\n",
        "\n",
        "#For train\n",
        "with open('Disease-Detection-3/train/_annotations.csv', 'r', newline='') as csvfile:\n",
        "    reader = csv.reader(csvfile)\n",
        "    rows = [row for row in reader if any(field.strip() for field in row)]\n",
        "\n",
        "with open('Disease-Detection-3/train/_annotations.csv', 'w', newline='') as csvfile:\n",
        "    writer = csv.writer(csvfile)\n",
        "    writer.writerows(rows)\n",
        "\n",
        "#For valid\n",
        "with open('Disease-Detection-3/valid/_annotations.csv', 'r', newline='') as csvfile:\n",
        "    reader = csv.reader(csvfile)\n",
        "    rows = [row for row in reader if any(field.strip() for field in row)]\n",
        "\n",
        "with open('Disease-Detection-3/valid/_annotations.csv', 'w', newline='') as csvfile:\n",
        "    writer = csv.writer(csvfile)\n",
        "    writer.writerows(rows)"
      ],
      "metadata": {
        "id": "s8KKNmPeJspB"
      },
      "id": "s8KKNmPeJspB",
      "execution_count": 5,
      "outputs": []
    },
    {
      "cell_type": "markdown",
      "source": [
        "Make sure that the coordinates in the annotations are rounded to the nearest integer"
      ],
      "metadata": {
        "id": "-VaLx0r8IRnI"
      },
      "id": "-VaLx0r8IRnI"
    },
    {
      "cell_type": "code",
      "source": [
        "#For train data\n",
        "with open('Disease-Detection-3/train/_annotations.csv', newline='') as csvfile:\n",
        "    reader = csv.reader(csvfile, delimiter=',', quotechar='\"')\n",
        "    rows = []\n",
        "    for row in reader:\n",
        "        # Convert columns 2-5 to integers\n",
        "        row[1:5] = map(int, row[1:5])\n",
        "        rows.append(row)\n",
        "\n",
        "# Write back to the CSV file\n",
        "with open('Disease-Detection-3/train/_annotations.csv', 'w', newline='') as csvfile:\n",
        "    writer = csv.writer(csvfile, delimiter=',', quotechar='\"', quoting=csv.QUOTE_MINIMAL)\n",
        "    writer.writerows(rows)\n",
        "\n",
        "#For validation data\n",
        "with open('Disease-Detection-3/valid/_annotations.csv', newline='') as csvfile:\n",
        "    reader = csv.reader(csvfile, delimiter=',', quotechar='\"')\n",
        "    rows = []\n",
        "    for row in reader:\n",
        "        # Convert columns 2-5 to integers\n",
        "        row[1:5] = map(int, row[1:5])\n",
        "        rows.append(row)\n",
        "\n",
        "# Write back to the CSV file\n",
        "with open('Disease-Detection-3/valid/_annotations.csv', 'w', newline='') as csvfile:\n",
        "    writer = csv.writer(csvfile, delimiter=',', quotechar='\"', quoting=csv.QUOTE_MINIMAL)\n",
        "    writer.writerows(rows)"
      ],
      "metadata": {
        "id": "sThAEN-mIRBV"
      },
      "id": "sThAEN-mIRBV",
      "execution_count": 6,
      "outputs": []
    },
    {
      "cell_type": "markdown",
      "source": [
        "Run the framework found here (https://github.com/yhenon/pytorch-retinanet)"
      ],
      "metadata": {
        "id": "WIEYOXSDFjw0"
      },
      "id": "WIEYOXSDFjw0"
    },
    {
      "cell_type": "code",
      "source": [
        "!mv Disease-Detection-3/train/*.jpg pytorch-retinanet/\n",
        "!mv Disease-Detection-3/valid/*.jpg pytorch-retinanet/\n",
        "%cd pytorch-retinanet/\n",
        "!python train.py --dataset csv --csv_train ../Disease-Detection-3/train/_annotations.csv  --csv_classes ../class_list.csv  --csv_val ../Disease-Detection-3/valid/_annotations.csv"
      ],
      "metadata": {
        "id": "R3taxT0HCibb"
      },
      "id": "R3taxT0HCibb",
      "execution_count": null,
      "outputs": []
    }
  ],
  "metadata": {
    "kernelspec": {
      "display_name": "ml",
      "language": "python",
      "name": "python3"
    },
    "language_info": {
      "codemirror_mode": {
        "name": "ipython",
        "version": 3
      },
      "file_extension": ".py",
      "mimetype": "text/x-python",
      "name": "python",
      "nbconvert_exporter": "python",
      "pygments_lexer": "ipython3",
      "version": "3.10.9"
    },
    "vscode": {
      "interpreter": {
        "hash": "0ded2cb331351ed1c13e44f0b111baa034532819e730db98a9d049a64313c247"
      }
    },
    "colab": {
      "provenance": [],
      "include_colab_link": true
    },
    "accelerator": "GPU",
    "gpuClass": "standard"
  },
  "nbformat": 4,
  "nbformat_minor": 5
}