{
  "cells": [
    {
      "cell_type": "markdown",
      "metadata": {
        "id": "view-in-github",
        "colab_type": "text"
      },
      "source": [
        "<a href=\"https://colab.research.google.com/github/RitvikPrabhu/AutoCBC/blob/master/Milestone2_DiseaseDetect/RetinaNet/Disease_detect_RetinaNet.ipynb\" target=\"_parent\"><img src=\"https://colab.research.google.com/assets/colab-badge.svg\" alt=\"Open In Colab\"/></a>"
      ]
    },
    {
      "cell_type": "markdown",
      "source": [
        "#**HemeAI: Disease Detect**\n",
        "\n",
        "## The following notebook attempts to identify diseases using RetinaNet\n",
        "\n",
        "###Author: Ritvik Prabhu"
      ],
      "metadata": {
        "id": "fcxQycVS_mPR"
      },
      "id": "fcxQycVS_mPR"
    },
    {
      "cell_type": "markdown",
      "source": [
        "First let us import a tool that can clear extremely verbose outputs"
      ],
      "metadata": {
        "id": "BrmcRdiehLZh"
      },
      "id": "BrmcRdiehLZh"
    },
    {
      "cell_type": "code",
      "source": [
        "from IPython.display import clear_output \n"
      ],
      "metadata": {
        "id": "gIMRVR3whKRJ"
      },
      "id": "gIMRVR3whKRJ",
      "execution_count": 1,
      "outputs": []
    },
    {
      "cell_type": "markdown",
      "source": [
        "Below we will clone our repository. The repository will contain the model files, annotated dataset and setup.py which are all necessary to train the model used for the first milestone of the project."
      ],
      "metadata": {
        "id": "N5xDXFsf__vy"
      },
      "id": "N5xDXFsf__vy"
    },
    {
      "cell_type": "code",
      "execution_count": 2,
      "id": "94940081",
      "metadata": {
        "id": "94940081"
      },
      "outputs": [],
      "source": [
        "!git clone https://github.com/RitvikPrabhu/AutoCBC.git\n",
        "%cd AutoCBC\n",
        "!apt-get install tk-dev python-tk\n",
        "!pip install -r requirements.txt\n",
        "%cd Milestone2_DiseaseDetect/RetinaNet\n",
        "clear_output()\n"
      ]
    },
    {
      "cell_type": "markdown",
      "source": [
        "The code below will allows us to reset our directory without having to shutdown the entire runtime"
      ],
      "metadata": {
        "id": "m3vrLpY8BPJ9"
      },
      "id": "m3vrLpY8BPJ9"
    },
    {
      "cell_type": "code",
      "source": [
        "# !rm -rf AutoCBC/"
      ],
      "metadata": {
        "id": "PPHlYmbymxU4",
        "outputId": "f173541f-4a55-4adf-96d3-dd6400e23e23",
        "colab": {
          "base_uri": "https://localhost:8080/",
          "height": 35
        }
      },
      "id": "PPHlYmbymxU4",
      "execution_count": 3,
      "outputs": [
        {
          "output_type": "execute_result",
          "data": {
            "text/plain": [
              "'/content/AutoCBC/Milestone2_DiseaseDetect/RetinaNet'"
            ],
            "application/vnd.google.colaboratory.intrinsic+json": {
              "type": "string"
            }
          },
          "metadata": {},
          "execution_count": 3
        }
      ]
    },
    {
      "cell_type": "markdown",
      "source": [
        "Import the necessary files and ensure the hardware is compatible"
      ],
      "metadata": {
        "id": "j5n7GoLaBWaL"
      },
      "id": "j5n7GoLaBWaL"
    },
    {
      "cell_type": "code",
      "source": [
        "import ultralytics\n",
        "from ultralyticsplus import YOLO, render_result\n",
        "\n",
        "ultralytics.checks()"
      ],
      "metadata": {
        "id": "86QeubiSgZi6",
        "outputId": "29bb7fa3-76cf-4209-c6cf-20636e42caad",
        "colab": {
          "base_uri": "https://localhost:8080/"
        }
      },
      "id": "86QeubiSgZi6",
      "execution_count": 4,
      "outputs": [
        {
          "output_type": "stream",
          "name": "stderr",
          "text": [
            "Ultralytics YOLOv8.0.23 🚀 Python-3.9.16 torch-2.0.0+cu118 CUDA:0 (Tesla T4, 15102MiB)\n",
            "Setup complete ✅ (2 CPUs, 12.7 GB RAM, 23.5/78.2 GB disk)\n"
          ]
        }
      ]
    },
    {
      "cell_type": "markdown",
      "source": [
        "Obtain the Dataset (from Roboflow)"
      ],
      "metadata": {
        "id": "TGbjTBS-gVJh"
      },
      "id": "TGbjTBS-gVJh"
    },
    {
      "cell_type": "code",
      "source": [
        "!pip install roboflow\n",
        "\n",
        "from roboflow import Roboflow\n",
        "rf = Roboflow(api_key=\"k7t7R1s1qjS9eojgbD50\")\n",
        "project = rf.workspace().project(\"disease-detection-z1mqc\")\n",
        "dataset = project.version(3).download(\"retinanet\")\n",
        "clear_output()"
      ],
      "metadata": {
        "id": "SVtM8fUHfyT2"
      },
      "id": "SVtM8fUHfyT2",
      "execution_count": null,
      "outputs": []
    }
  ],
  "metadata": {
    "kernelspec": {
      "display_name": "ml",
      "language": "python",
      "name": "python3"
    },
    "language_info": {
      "codemirror_mode": {
        "name": "ipython",
        "version": 3
      },
      "file_extension": ".py",
      "mimetype": "text/x-python",
      "name": "python",
      "nbconvert_exporter": "python",
      "pygments_lexer": "ipython3",
      "version": "3.10.9"
    },
    "vscode": {
      "interpreter": {
        "hash": "0ded2cb331351ed1c13e44f0b111baa034532819e730db98a9d049a64313c247"
      }
    },
    "colab": {
      "provenance": [],
      "include_colab_link": true
    },
    "accelerator": "GPU",
    "gpuClass": "standard"
  },
  "nbformat": 4,
  "nbformat_minor": 5
}