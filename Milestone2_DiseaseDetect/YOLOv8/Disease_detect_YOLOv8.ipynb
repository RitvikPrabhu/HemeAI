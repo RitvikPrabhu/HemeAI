{
  "cells": [
    {
      "cell_type": "markdown",
      "metadata": {
        "id": "view-in-github",
        "colab_type": "text"
      },
      "source": [
        "<a href=\"https://colab.research.google.com/github/RitvikPrabhu/AutoCBC/blob/master/Milestone2_DiseaseDetect/YOLOv8/Disease_detect_YOLOv8.ipynb\" target=\"_parent\"><img src=\"https://colab.research.google.com/assets/colab-badge.svg\" alt=\"Open In Colab\"/></a>"
      ]
    },
    {
      "cell_type": "markdown",
      "source": [
        "#**HemeAI: Disease Detection**\n",
        "\n",
        "###Author: Ritvik Prabhu and Bhargav Iyer"
      ],
      "metadata": {
        "id": "fcxQycVS_mPR"
      },
      "id": "fcxQycVS_mPR"
    },
    {
      "cell_type": "markdown",
      "source": [
        "Below we will clone our repository. The repository will contain the model files, annotated dataset and setup.py which are all necessary to train the model used for the first milestone of the project.  We also import IPython.display clear_output to make the file look better."
      ],
      "metadata": {
        "id": "N5xDXFsf__vy"
      },
      "id": "N5xDXFsf__vy"
    },
    {
      "cell_type": "code",
      "source": [
        "from IPython.display import clear_output"
      ],
      "metadata": {
        "id": "PDNFmUOjjusR"
      },
      "id": "PDNFmUOjjusR",
      "execution_count": 1,
      "outputs": []
    },
    {
      "cell_type": "code",
      "execution_count": 2,
      "id": "94940081",
      "metadata": {
        "id": "94940081"
      },
      "outputs": [],
      "source": [
        "!git clone https://github.com/RitvikPrabhu/AutoCBC.git\n",
        "%cd AutoCBC\n",
        "!pip install -r requirements.txt\n",
        "%cd Milestone2_DiseaseDetect/yolov8\n",
        "clear_output()"
      ]
    },
    {
      "cell_type": "markdown",
      "source": [
        "The code below will allows us to reset our directory without having to shutdown the entire runtime"
      ],
      "metadata": {
        "id": "m3vrLpY8BPJ9"
      },
      "id": "m3vrLpY8BPJ9"
    },
    {
      "cell_type": "code",
      "source": [
        "# !rm -rf AutoCBC/\n"
      ],
      "metadata": {
        "id": "PPHlYmbymxU4"
      },
      "id": "PPHlYmbymxU4",
      "execution_count": 3,
      "outputs": []
    },
    {
      "cell_type": "markdown",
      "source": [
        "Import the necessary files and ensure the hardware is compatible"
      ],
      "metadata": {
        "id": "j5n7GoLaBWaL"
      },
      "id": "j5n7GoLaBWaL"
    },
    {
      "cell_type": "code",
      "source": [
        "import ultralytics\n",
        "from ultralyticsplus import YOLO, render_result\n",
        "\n",
        "ultralytics.checks()"
      ],
      "metadata": {
        "id": "86QeubiSgZi6",
        "outputId": "3eb7271c-0b60-4ded-bc46-c3191d414a4c",
        "colab": {
          "base_uri": "https://localhost:8080/"
        }
      },
      "id": "86QeubiSgZi6",
      "execution_count": 4,
      "outputs": [
        {
          "output_type": "stream",
          "name": "stderr",
          "text": [
            "Ultralytics YOLOv8.0.23 🚀 Python-3.9.16 torch-2.0.0+cu118 CUDA:0 (Tesla T4, 15102MiB)\n",
            "Setup complete ✅ (2 CPUs, 12.7 GB RAM, 23.7/78.2 GB disk)\n"
          ]
        }
      ]
    },
    {
      "cell_type": "markdown",
      "source": [
        "Install roboflow to get the annotated images to use for testing, training and validating.  Also getting it in yolov8 friendly text."
      ],
      "metadata": {
        "id": "2ts9_2vXV-n5"
      },
      "id": "2ts9_2vXV-n5"
    },
    {
      "cell_type": "code",
      "source": [
        "!pip install roboflow\n",
        "from roboflow import Roboflow\n",
        "rf = Roboflow(api_key=\"k7t7R1s1qjS9eojgbD50\")\n",
        "project = rf.workspace().project(\"disease-detection-z1mqc\")\n",
        "dataset = project.version(3).download(\"yolov8\")\n",
        "clear_output()"
      ],
      "metadata": {
        "id": "g84uATzbGBoS"
      },
      "id": "g84uATzbGBoS",
      "execution_count": 5,
      "outputs": []
    },
    {
      "cell_type": "markdown",
      "source": [
        "Moving the folder with images gotten from roboflow into Milestone2 so that it can be worked on as well as moving data.yaml file outside the folder to make he training realize what folder to look for."
      ],
      "metadata": {
        "id": "SGHWcoxNWTUd"
      },
      "id": "SGHWcoxNWTUd"
    },
    {
      "cell_type": "code",
      "source": [
        "import shutil\n",
        "\n",
        "shutil.move(\"/content/AutoCBC/Disease-Detection-3\", \"/content/AutoCBC/Milestone2_DiseaseDetect/YOLOv8/Disease-Detection-3\")\n",
        "#shutil.move(\"/content/AutoCBC/Milestone2_DiseaseDetect/YOLOv8/Disease-Detection-3/data.yaml\", \"/content/AutoCBC/Milestone2_DiseaseDetect/YOLOv8/data.yaml\")\n",
        "clear_output()\n"
      ],
      "metadata": {
        "id": "o7eVpuAMx3r4"
      },
      "id": "o7eVpuAMx3r4",
      "execution_count": 6,
      "outputs": []
    },
    {
      "cell_type": "markdown",
      "source": [
        "We will load the necessary pretrained YOLO model and train the model to our dataset"
      ],
      "metadata": {
        "id": "9Yljhw-0BfHO"
      },
      "id": "9Yljhw-0BfHO"
    },
    {
      "cell_type": "code",
      "execution_count": null,
      "id": "33884888",
      "metadata": {
        "id": "33884888"
      },
      "outputs": [],
      "source": [
        "# Load a model\n",
        "model = YOLO(\"yolov8n.pt\")  # load a pretrained model (recommended for training)\n",
        "# Use the model\n",
        "\n",
        "#!yolo task=object-detection mode=train model=yolov8m.pt data={dataset.location}/data.yaml epochs=50 imgsz=640 optimizer=\"Adam\"\n",
        "model.train(data=\"/content/AutoCBC/Milestone2_DiseaseDetect/YOLOv8/data.yaml\", epochs=300, imgsz=640, task = \"detect\", optimizer=\"Adam\")  # train the model\n",
        "# maybe increase to 300 epochs\n",
        "metrics = model.val()  # evaluate model performance on the validation set\n",
        "\n",
        "# task=detect, mode=train, model=yolov8m.yaml, data=data.yaml, epochs=50, patience=50, batch=16, imgsz=640, save=True, cache=False, device=, workers=8, project=None, name=None, exist_ok=False, pretrained=False, optimizer=SGD, verbose=True, seed=0, deterministic=True, single_cls=False, image_weights=False, rect=False, cos_lr=False, close_mosaic=10, resume=False, overlap_mask=True, mask_ratio=4, dropout=False, val=True, save_json=False, save_hybrid=False, conf=0.001, iou=0.7, max_det=300, half=False, dnn=False, plots=False, source=ultralytics/assets/, show=False, save_txt=False, save_conf=False, save_crop=False, hide_labels=False, hide_conf=False, vid_stride=1, line_thickness=3, visualize=False, augment=False, agnostic_nms=False, classes=None, retina_masks=False, boxes=True, format=torchscript, keras=False, optimize=False, int8=False, dynamic=False, simplify=False, opset=17, workspace=4, nms=False, lr0=0.01, lrf=0.01, momentum=0.937, weight_decay=0.001, warmup_epochs=3.0, warmup_momentum=0.8, warmup_bias_lr=0.1, box=7.5, cls=0.5, dfl=1.5, fl_gamma=0.0, label_smoothing=0.0, nbs=64, hsv_h=0.015, hsv_s=0.7, hsv_v=0.4, degrees=0.0, translate=0.1, scale=0.9, shear=0.0, perspective=0.0, flipud=0.0, fliplr=0.5, mosaic=1.0, mixup=0.1, copy_paste=0.1, cfg=None, v5loader=False, save_dir=runs/detect/train"
      ]
    },
    {
      "cell_type": "markdown",
      "source": [
        "We locate the model with the most favorable weights and store in the home directory and name it \"best.pt\". We will use these weights in the model and edit some hyperparameters of the model. We will use this to detect objects using bounding boxes"
      ],
      "metadata": {
        "id": "uYF9NflNB2eT"
      },
      "id": "uYF9NflNB2eT"
    },
    {
      "cell_type": "code",
      "source": [
        "import os\n",
        "model = YOLO('/content/AutoCBC/Milestone2_DiseaseDetect/YOLOv8/runs/detect/train/weights/best.pt')\n",
        "\n",
        "# set model parameters\n",
        "model.overrides['conf'] = 0.25  # NMS confidence threshold\n",
        "model.overrides['iou'] = 0.45  # NMS IoU threshold\n",
        "model.overrides['agnostic_nms'] = False  # NMS class-agnostic\n",
        "model.overrides['max_det'] = 1000  # maximum number of detections per image\n",
        "\n",
        "# observe results\n",
        "image_pth = \"/content/AutoCBC/Milestone2_DiseaseDetect/YOLOv8/Disease-Detection-3/test/images\"\n",
        "image = os.listdir(image_pth)[0]\n",
        "image_pth_full = image_pth + \"/\" + image\n",
        "results = model.predict(image_pth_full)\n",
        "\n",
        "print(results[0].boxes)\n",
        "render = render_result(model=model, image=image_pth_full, result=results[0])\n",
        "render.show()\n",
        "\n"
      ],
      "metadata": {
        "id": "qucp3aUjpRLi"
      },
      "id": "qucp3aUjpRLi",
      "execution_count": null,
      "outputs": []
    },
    {
      "cell_type": "markdown",
      "source": [
        "We will count the number of objects in each class and find the ratio of cells in each image"
      ],
      "metadata": {
        "id": "cWMTlcnBCuix"
      },
      "id": "cWMTlcnBCuix"
    },
    {
      "cell_type": "code",
      "source": [
        "results = model.predict(image_pth_full, stream=True)\n",
        "disease_blood_count = {\"neutrophils\": 0, \"eosinophils\": 0, \"basophils\": 0, \"lymphocytes\": 0, \"monocytes\": 0, \"myelocytes\": 0, \"erythroblasts\": 0, \"abnormal_rbc\": 0, \"band_neutrophils\": 0, \"segmented_neutrophils\": 0}\n",
        "\n",
        "for r in results:\n",
        "    for c in r.boxes.cls:\n",
        "      if model.names[int(c)] in disease_blood_count.keys():\n",
        "         disease_blood_count[model.names[int(c)]] += 1\n",
        "\n",
        "print(disease_blood_count)\n",
        "results = [disease_blood_count['neutrophils'] / sum(disease_blood_count.values()), disease_blood_count['eosinophils'] / sum(disease_blood_count.values()), disease_blood_count['basophils'] / sum(disease_blood_count.values()), disease_blood_count['lymphocytes'] / sum(disease_blood_count.values()), disease_blood_count['monocytes'] / sum(disease_blood_count.values()), disease_blood_count['myelocytes'] / sum(disease_blood_count.values()), disease_blood_count['erythroblasts'] / sum(disease_blood_count.values()), disease_blood_count['abnormal_rbc'] / sum(disease_blood_count.values()), disease_blood_count['band_neutrophils'] / sum(disease_blood_count.values()), disease_blood_count['segmented_neutrophils'] / sum(disease_blood_count.values())]\n",
        "\n",
        "print(results)"
      ],
      "metadata": {
        "id": "oi1CxOBTEnZx"
      },
      "id": "oi1CxOBTEnZx",
      "execution_count": null,
      "outputs": []
    }
  ],
  "metadata": {
    "kernelspec": {
      "display_name": "ml",
      "language": "python",
      "name": "python3"
    },
    "language_info": {
      "codemirror_mode": {
        "name": "ipython",
        "version": 3
      },
      "file_extension": ".py",
      "mimetype": "text/x-python",
      "name": "python",
      "nbconvert_exporter": "python",
      "pygments_lexer": "ipython3",
      "version": "3.10.9"
    },
    "vscode": {
      "interpreter": {
        "hash": "0ded2cb331351ed1c13e44f0b111baa034532819e730db98a9d049a64313c247"
      }
    },
    "colab": {
      "provenance": [],
      "include_colab_link": true
    },
    "accelerator": "GPU",
    "gpuClass": "standard"
  },
  "nbformat": 4,
  "nbformat_minor": 5
}